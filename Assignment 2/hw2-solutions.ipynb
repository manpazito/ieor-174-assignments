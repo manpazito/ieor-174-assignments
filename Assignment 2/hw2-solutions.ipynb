{
 "cells": [
  {
   "cell_type": "markdown",
   "id": "8f79967a",
   "metadata": {},
   "source": [
    "# Assignment 2\n",
    "Prepared by Ali Younis & Manuel Martinez Garcia"
   ]
  },
  {
   "cell_type": "markdown",
   "id": "be83034b",
   "metadata": {},
   "source": [
    "## Problem 1:\n",
    "[Link to LLM Conversation for Balking Logic](https://chatgpt.com/share/68eda8d0-3510-8011-9a91-ae5c4779db28)\n",
    "\n",
    "[Link to GitHub Repo for more Detailed Work on Food Truck Simulator](https://github.com/manpazito/ieor-174-assignments/tree/main/Assignment%202)\n",
    "\n",
    "**Setting.** Suppose that you run a food truck on each Wednesday between 11AM and 1PM. There is no customer waiting when the food truck opens at 11AM. Customers arrive at the food truck according to a Poisson process with rate λ persons per minute. There is a single line of queue with a first-come-first-serve rule. Customers that have arrived before 1PM will eventually get served. In other words, customers are not able to join the queue if they arrive later than 1PM. The food truck resumes its operation until all customers who have arrived before 1PM get served. You are the owner of the food truck and there is only one server (yourself). The service time for each customer is independent and identically distributed with some distribution $F$ . The service time includes the time on taking orders and food preparation. The distribution $F$ has a mean of $1/μ$ and the probability distribution is to be specified. Suppose λ = 2. Simulate 100 independent days (Wednesdays) for each of the following parts.\n",
    "\n",
    "**To do.** Simulate $n = 100$ independent days of operation from 11AM and 1PM and generate the sequence of customer waiting times. For this task, the service time distribution $F$ is given by an exponential distribution with expectation as 35 seconds. Recall that the condition $λ = 2$ persons per minute in the problem statement implies that the exponentially distributed inter-arrival times of customers have expectation also as 30 seconds."
   ]
  },
  {
   "cell_type": "code",
   "execution_count": 1,
   "id": "9dfcef77",
   "metadata": {},
   "outputs": [],
   "source": [
    "import numpy as np\n",
    "from FoodTruck import FoodTruck, format_time_from_minutes\n",
    "\n",
    "### Default Parameters ###\n",
    "LAMBDA = 2.0            # arrivals per minute\n",
    "SERVICE_MEAN_SEC = 35    # average service time\n",
    "T0 = 0              # 11 AM\n",
    "T1 = 120            # 1 PM\n",
    "N_DAYS = 100"
   ]
  },
  {
   "cell_type": "markdown",
   "id": "265ca046",
   "metadata": {},
   "source": [
    "a.) Suppose that you are interested in knowing that on a typical Wednesday, what is the expectation of the averaged waiting time for customers who arrive at the food truck between 11:15 AM to 11:30 AM. Compute an estimate of this quantity using simulation."
   ]
  },
  {
   "cell_type": "code",
   "execution_count": 2,
   "id": "dd4b17c0",
   "metadata": {},
   "outputs": [
    {
     "name": "stdout",
     "output_type": "stream",
     "text": [
      "Average wait time for customers arriving between 11:15 and 11:30 AM over 100 days: 6 minutes and 11 seconds\n"
     ]
    }
   ],
   "source": [
    "AM_TOTAL_WAIT_TIMES = []\n",
    "PM_TOTAL_WAIT_TIMES = []\n",
    "\n",
    "for _ in range(N_DAYS):\n",
    "    sim = FoodTruck(LAMBDA, SERVICE_MEAN_SEC, T0, T1)\n",
    "    daily_arrivals, daily_waiting, _, _ = sim.simulate_day()\n",
    "\n",
    "    # 11:15 - 11:30 AM arrivals\n",
    "    AM_MASK = (daily_arrivals >= 15) & (daily_arrivals < 30)\n",
    "    AM_WAIT_TIMES = daily_waiting[AM_MASK]\n",
    "    AM_TOTAL_WAIT_TIMES.extend(AM_WAIT_TIMES)   \n",
    "\n",
    "    # 12:45 - 1:00 PM arrivals (for part b.)\n",
    "    PM_MASK = (daily_arrivals >= 105) & (daily_arrivals < 120)\n",
    "    PM_WAIT_TIMES = daily_waiting[PM_MASK]\n",
    "    PM_TOTAL_WAIT_TIMES.extend(PM_WAIT_TIMES)\n",
    "    \n",
    "# Part (a)\n",
    "AM_AVG_WAIT = np.mean(AM_TOTAL_WAIT_TIMES)\n",
    "min, sec = format_time_from_minutes(AM_AVG_WAIT)\n",
    "print(f\"Average wait time for customers arriving between 11:15 and 11:30 AM over {N_DAYS} days: {min} minutes and {sec} seconds\")"
   ]
  },
  {
   "cell_type": "markdown",
   "id": "b60a1d7b",
   "metadata": {},
   "source": [
    "b.) Suppose that you are interested in knowing that on a typical Wednesday, what is the expectation of the averaged waiting time for customers who arrive at the food truck between 12:45 PM to 1:00 PM. Compute an estimate of this quantity using simulation."
   ]
  },
  {
   "cell_type": "code",
   "execution_count": 3,
   "id": "3d699773",
   "metadata": {},
   "outputs": [
    {
     "name": "stdout",
     "output_type": "stream",
     "text": [
      "Average wait time for customers arriving between 12:45 and 1:00 PM over 100 days: 22 minutes and 36 seconds\n"
     ]
    }
   ],
   "source": [
    "PM_AVG_WAIT = np.mean(PM_TOTAL_WAIT_TIMES)\n",
    "min, sec = format_time_from_minutes(PM_AVG_WAIT)\n",
    "print(f\"Average wait time for customers arriving between 12:45 and 1:00 PM over {N_DAYS} days: {min} minutes and {sec} seconds\")"
   ]
  },
  {
   "cell_type": "markdown",
   "id": "3daa90a0",
   "metadata": {},
   "source": [
    "c.) Compare the two quantities you computed in the previous two questions. Describe intuition that you may get from this comparison."
   ]
  },
  {
   "cell_type": "markdown",
   "id": "c4ab44b9",
   "metadata": {},
   "source": [
    "> Wait times from later in the day are much larger. Almost by 15-20 minutes longer. This is probably because customers arrive at a faster rate that one chef is able to serve."
   ]
  },
  {
   "cell_type": "markdown",
   "id": "c5f5f08b",
   "metadata": {},
   "source": [
    "d.) Compute the percentage of customers who arrive at the food truck between 11:15 AM to 11:30 AM and wait for more than 3 minutes. Compute the percentage of customers who arrive at the food truck between 12:45 PM to 1:00 PM and wait for more than 3 minutes."
   ]
  },
  {
   "cell_type": "code",
   "execution_count": 4,
   "id": "10427e77",
   "metadata": {},
   "outputs": [
    {
     "name": "stdout",
     "output_type": "stream",
     "text": [
      "Proportion of customers waiting more than 3 minutes between 11:15 and 11:30 AM: 70.84%\n",
      "Proportion of customers waiting more than 3 minutes between 12:45 and 1:00 PM: 98.08%\n"
     ]
    }
   ],
   "source": [
    "AM_over_3_min = np.sum(np.array(AM_TOTAL_WAIT_TIMES) > 3)\n",
    "PM_over_3_min = np.sum(np.array(PM_TOTAL_WAIT_TIMES) > 3)\n",
    "print(f\"Proportion of customers waiting more than 3 minutes between 11:15 and 11:30 AM: {AM_over_3_min / len(AM_TOTAL_WAIT_TIMES):.2%}\")\n",
    "print(f\"Proportion of customers waiting more than 3 minutes between 12:45 and 1:00 PM: {PM_over_3_min / len(PM_TOTAL_WAIT_TIMES):.2%}\")"
   ]
  },
  {
   "cell_type": "markdown",
   "id": "96830af3",
   "metadata": {},
   "source": [
    "e.) Suppose that the customers will immediately abandon the system and leave for other dining options, conditional on that they see more than 5 people in the system (including the one being served). Now, what is the percentage of customers who abandon the system (=food truck) upon arrival between 12:45 PM and 1:00 PM? What is the expectation of the averaged waiting time for customers who arrive at the food truck between 12:45 PM to 1:00 PM and did not abandon the system?"
   ]
  },
  {
   "cell_type": "code",
   "execution_count": 5,
   "id": "8bd1b0c2",
   "metadata": {},
   "outputs": [
    {
     "name": "stdout",
     "output_type": "stream",
     "text": [
      "Average wait time for customers arriving between 12:45 and 1:00 PM who did not balk over 100 days: 1 minutes and 42 seconds\n",
      "Proportion of customers who balked between 12:45 and 1:00 PM: 22.89%\n"
     ]
    }
   ],
   "source": [
    "NEW_PM_TOTAL_WAIT_TIMES = []\n",
    "all_arrivals = 0\n",
    "balked_arrivals = 0\n",
    "\n",
    "for _ in range(N_DAYS):\n",
    "    sim = FoodTruck(LAMBDA, SERVICE_MEAN_SEC, T0, T1)\n",
    "    daily_arrivals, daily_waiting, _, balked_flags = sim.simulate_day(BALKING=True, BALKING_THRESHOLD=5)\n",
    "    \n",
    "    serviced_mask = (daily_arrivals > 105) & (daily_arrivals < 120) & (~balked_flags)\n",
    "    balked_mask = (daily_arrivals > 105) & (daily_arrivals < 120) & (balked_flags)\n",
    "    \n",
    "    NEW_PM_TOTAL_WAIT_TIMES.extend(daily_waiting[serviced_mask])\n",
    "    all_arrivals += np.sum(serviced_mask) + np.sum(balked_mask)\n",
    "    balked_arrivals += np.sum(balked_mask)\n",
    "    \n",
    "NEW_AVG_WAIT = np.mean(NEW_PM_TOTAL_WAIT_TIMES)\n",
    "min, sec = format_time_from_minutes(NEW_AVG_WAIT)\n",
    "print(f\"Average wait time for customers arriving between 12:45 and 1:00 PM who did not balk over {N_DAYS} days: {min} minutes and {sec} seconds\")\n",
    "print(f\"Proportion of customers who balked between 12:45 and 1:00 PM: {balked_arrivals / all_arrivals:.2%}\")"
   ]
  },
  {
   "cell_type": "markdown",
   "id": "5f8c1922",
   "metadata": {},
   "source": [
    "f.) Re-do the previous five parts with F being an exponential distribution with expectation as 30 seconds and everything else equal."
   ]
  },
  {
   "cell_type": "code",
   "execution_count": 6,
   "id": "73fe3af4",
   "metadata": {},
   "outputs": [
    {
     "name": "stdout",
     "output_type": "stream",
     "text": [
      "Average wait time for customers arriving between 11:15 and 11:30 AM over 100 days: 3 minutes and 44 seconds\n",
      "Average wait time for customers arriving between 12:45 and 1:00 PM over 100 days: 8 minutes and 17 seconds\n",
      "\n",
      "Proportion of customers waiting more than 3 minutes between 11:15 and 11:30 AM: 48.26%\n",
      "Proportion of customers waiting more than 3 minutes between 12:45 and 1:00 PM: 72.94%\n",
      "Average wait time for customers arriving between 12:45 and 1:00 PM who did not balk over 100 days: 1 minutes and 14 seconds\n",
      "Proportion of customers who balked between 12:45 and 1:00 PM: 16.07%\n"
     ]
    }
   ],
   "source": [
    "SERVICE_MEAN_SEC = 30    # new faster average service time\n",
    "\n",
    "AM_TOTAL_WAIT_TIMES = []\n",
    "PM_TOTAL_WAIT_TIMES = []\n",
    "\n",
    "for _ in range(N_DAYS):\n",
    "    sim = FoodTruck(LAMBDA, SERVICE_MEAN_SEC, T0, T1)\n",
    "    daily_arrivals, daily_waiting, _, _ = sim.simulate_day()\n",
    "\n",
    "    # 11:15 - 11:30 AM arrivals\n",
    "    AM_MASK = (daily_arrivals >= 15) & (daily_arrivals < 30)\n",
    "    AM_WAIT_TIMES = daily_waiting[AM_MASK]\n",
    "    AM_TOTAL_WAIT_TIMES.extend(AM_WAIT_TIMES)   \n",
    "\n",
    "    # 12:45 - 1:00 PM arrivals (for part b.)\n",
    "    PM_MASK = (daily_arrivals >= 105) & (daily_arrivals < 120)\n",
    "    PM_WAIT_TIMES = daily_waiting[PM_MASK]\n",
    "    PM_TOTAL_WAIT_TIMES.extend(PM_WAIT_TIMES)\n",
    "    \n",
    "# Part (a)\n",
    "AM_AVG_WAIT = np.mean(AM_TOTAL_WAIT_TIMES)\n",
    "min, sec = format_time_from_minutes(AM_AVG_WAIT)\n",
    "print(f\"Average wait time for customers arriving between 11:15 and 11:30 AM over {N_DAYS} days: {min} minutes and {sec} seconds\")\n",
    "\n",
    "PM_AVG_WAIT = np.mean(PM_TOTAL_WAIT_TIMES)\n",
    "min, sec = format_time_from_minutes(PM_AVG_WAIT)\n",
    "print(f\"Average wait time for customers arriving between 12:45 and 1:00 PM over {N_DAYS} days: {min} minutes and {sec} seconds\\n\")\n",
    "\n",
    "AM_over_3_min = np.sum(np.array(AM_TOTAL_WAIT_TIMES) > 3)\n",
    "PM_over_3_min = np.sum(np.array(PM_TOTAL_WAIT_TIMES) > 3)\n",
    "print(f\"Proportion of customers waiting more than 3 minutes between 11:15 and 11:30 AM: {AM_over_3_min / len(AM_TOTAL_WAIT_TIMES):.2%}\")\n",
    "print(f\"Proportion of customers waiting more than 3 minutes between 12:45 and 1:00 PM: {PM_over_3_min / len(PM_TOTAL_WAIT_TIMES):.2%}\")\n",
    "\n",
    "NEW_PM_TOTAL_WAIT_TIMES = []\n",
    "all_arrivals = 0\n",
    "balked_arrivals = 0\n",
    "\n",
    "for _ in range(N_DAYS):\n",
    "    sim = FoodTruck(LAMBDA, SERVICE_MEAN_SEC, T0, T1)\n",
    "    daily_arrivals, daily_waiting, _, balked_flags = sim.simulate_day(BALKING=True, BALKING_THRESHOLD=5)\n",
    "    \n",
    "    serviced_mask = (daily_arrivals > 105) & (daily_arrivals < 120) & (~balked_flags)\n",
    "    balked_mask = (daily_arrivals > 105) & (daily_arrivals < 120) & (balked_flags)\n",
    "    \n",
    "    NEW_PM_TOTAL_WAIT_TIMES.extend(daily_waiting[serviced_mask])\n",
    "    all_arrivals += np.sum(serviced_mask) + np.sum(balked_mask)\n",
    "    balked_arrivals += np.sum(balked_mask)\n",
    "    \n",
    "NEW_AVG_WAIT = np.mean(NEW_PM_TOTAL_WAIT_TIMES)\n",
    "min, sec = format_time_from_minutes(NEW_AVG_WAIT)\n",
    "print(f\"Average wait time for customers arriving between 12:45 and 1:00 PM who did not balk over {N_DAYS} days: {min} minutes and {sec} seconds\")\n",
    "print(f\"Proportion of customers who balked between 12:45 and 1:00 PM: {balked_arrivals / all_arrivals:.2%}\")"
   ]
  },
  {
   "cell_type": "markdown",
   "id": "50b21057",
   "metadata": {},
   "source": [
    "## Problem 2\n",
    "(Practice on simulating time inhomogenous Poisson processes.) Suppose that the customer arrivals from 11AM to 1PM follow a time inhomogeneous Poisson process. The arrival rate is time-varying and is linearly increasing between 11AM and 1PM. The arrival rate is 0.5 per minute at 11AM and the arrival rate is 1 per minute at 1PM. Suppose that there is one server in the system, serving customers in a first come first serve criterion. The service time requirement distribution for any customer is exponentially distributed with expectation as 35 seconds. Use 100 simulation replications for this Deliverable and provide confidence intervals with 95% of confidence level.\n",
    "\n",
    "a) Use simulation to compute the expectation of the number of customers at time 1PM.Suppose that you are interested in knowing that on a typical Wednesday, what is the expectation of the averaged waiting time for customers who arrive at the food truck between 11:15 AM to 11:30 AM. Compute an estimate of this quantity using simulation."
   ]
  },
  {
   "cell_type": "markdown",
   "id": "02ea7b55",
   "metadata": {},
   "source": [
    "b) Use simulation to compute the expectation of averaged waiting time for all those cus-\n",
    "tomers that arrive between 12:45 PM to 1 PM. \n",
    "\n",
    "*Note: The average waiting time is defined as for a given day, the total waiting times of all customers on that day divided by the number of customers on that day. Such average waiting time may vary from day to day and is a random variable itself. The expectation of it can be computed and approximated by taking multiple days and do a sample mean.*</li>"
   ]
  },
  {
   "cell_type": "markdown",
   "id": "b17f8995",
   "metadata": {},
   "source": [
    "c.) Use simulation to compute the expectation of averaged waiting time for all those customers that arrive between 11:45 AM to 12:00 PM."
   ]
  },
  {
   "cell_type": "markdown",
   "id": "9c814873",
   "metadata": {},
   "source": [
    "# Assignment 2 – Question 2  (Solution)\n",
    "\n",
    "[Link to LLM conversation](https://chatgpt.com/share/68f062fb-2958-8009-9a52-e6f71bc863b2 )\n",
    "**Inhomogeneous Poisson arrivals, single-server FCFS, Exp(35s) service**  \n",
    "This section implements the time-change method, simulates 100 days, and reports:\n",
    "- (a) Number in system at **1:00 PM (t = 120 min)**  \n",
    "- (b) Average wait for arrivals in **[12:45, 1:00)** → minutes `[105, 120)`  \n",
    "- (c) Average wait for arrivals in **[11:45, 12:00)** → minutes `[45, 60)`  \n",
    "Along with **95% CIs** by normal approximation.\n"
   ]
  },
  {
   "cell_type": "code",
   "execution_count": 3,
   "id": "ed123e98",
   "metadata": {
    "execution": {
     "iopub.execute_input": "2025-10-16T03:09:08.301617Z",
     "iopub.status.busy": "2025-10-16T03:09:08.301371Z",
     "iopub.status.idle": "2025-10-16T03:09:08.329342Z",
     "shell.execute_reply": "2025-10-16T03:09:08.328827Z"
    }
   },
   "outputs": [
    {
     "data": {
      "text/plain": [
       "90.0"
      ]
     },
     "execution_count": 3,
     "metadata": {},
     "output_type": "execute_result"
    }
   ],
   "source": [
    "\n",
    "import math\n",
    "import random\n",
    "from statistics import mean\n",
    "from typing import List, Tuple, Optional\n",
    "\n",
    "# ----------------------------\n",
    "# Model parameters (minutes)\n",
    "# ----------------------------\n",
    "T_END = 120.0                   # 11:00 -> 1:00 mapped to t in [0, 120]\n",
    "# Arrival rate: lambda(t) = 0.5 + (0.5/120) * t  customers/min\n",
    "def lam(t: float) -> float:\n",
    "    return 0.5 + (0.5 / 120.0) * t\n",
    "\n",
    "# Compensator (integrated rate): Λ(t) = 0.5 t + t^2 / 480\n",
    "def bigLambda(t: float) -> float:\n",
    "    return 0.5 * t + (t * t) / 480.0\n",
    "\n",
    "# Inverse of Λ: solve (1/480) t^2 + 0.5 t - y = 0  for t >= 0\n",
    "# Positive root: t = [-b + sqrt(b^2 - 4 a c)] / (2 a)\n",
    "# a=1/480, b=0.5, c=-y\n",
    "def inv_bigLambda(y: float) -> float:\n",
    "    a = 1.0 / 480.0\n",
    "    b = 0.5\n",
    "    c = -y\n",
    "    disc = b * b - 4 * a * c  # = 0.25 + (1/120) y\n",
    "    t_pos = (-b + math.sqrt(disc)) / (2 * a)\n",
    "    return t_pos\n",
    "\n",
    "# Service times i.i.d. Exp(mean = 35 seconds = 35/60 minutes)\n",
    "SERVICE_MEAN_MIN = 35.0 / 60.0\n",
    "\n",
    "def exp_sample(mean: float) -> float:\n",
    "    # Inverse transform for Exp with mean\n",
    "    u = random.random()\n",
    "    return -mean * math.log(1.0 - u)\n",
    "\n",
    "# ----------------------------\n",
    "# Arrival generator (time-change method)\n",
    "# ----------------------------\n",
    "def simulate_arrivals(T: float) -> List[float]:\n",
    "    \"\"\"Generate arrival times in [0, T) using the time-change method.\"\"\"\n",
    "    arrivals = []\n",
    "    y = 0.0                          # current time in Λ-space\n",
    "    y_max = bigLambda(T)\n",
    "    while True:\n",
    "        # Jump in Λ-space ~ Exp(1)\n",
    "        jump = exp_sample(1.0)       # mean-1 exponential\n",
    "        y += jump\n",
    "        if y >= y_max:\n",
    "            break\n",
    "        t = inv_bigLambda(y)\n",
    "        if t < T:\n",
    "            arrivals.append(t)\n",
    "        else:\n",
    "            break\n",
    "    return arrivals\n",
    "\n",
    "# ----------------------------\n",
    "# Single-server FCFS for one day\n",
    "# ----------------------------\n",
    "def simulate_one_day(T: float = T_END) -> Tuple[int, Optional[float], Optional[float]]:\n",
    "    \"\"\"\n",
    "    Returns:\n",
    "      (a) number in system at t=T,\n",
    "      (b) average wait among arrivals in [105,120) (minutes), or None if none,\n",
    "      (c) average wait among arrivals in [45,60) (minutes), or None if none.\n",
    "    \"\"\"\n",
    "    arrivals = simulate_arrivals(T)\n",
    "    arrivals.sort()\n",
    "\n",
    "    next_free = 0.0\n",
    "    completes = []\n",
    "\n",
    "    waits_105_120 = []\n",
    "    waits_45_60 = []\n",
    "\n",
    "    for a in arrivals:\n",
    "        service = exp_sample(SERVICE_MEAN_MIN)\n",
    "        start = max(a, next_free)\n",
    "        wait = start - a\n",
    "        finish = start + service\n",
    "        next_free = finish\n",
    "\n",
    "        completes.append(finish)\n",
    "\n",
    "        if 105.0 <= a < 120.0:\n",
    "            waits_105_120.append(wait)\n",
    "        if 45.0 <= a < 60.0:\n",
    "            waits_45_60.append(wait)\n",
    "\n",
    "    # Metric (a): number in system at T\n",
    "    num_arrivals_le_T = sum(1 for at in arrivals if at <= T)\n",
    "    num_completes_le_T = sum(1 for ct in completes if ct <= T)\n",
    "    number_in_system_at_T = num_arrivals_le_T - num_completes_le_T\n",
    "\n",
    "    avg_wait_105_120 = (mean(waits_105_120) if waits_105_120 else None)\n",
    "    avg_wait_45_60 = (mean(waits_45_60) if waits_45_60 else None)\n",
    "\n",
    "    return number_in_system_at_T, avg_wait_105_120, avg_wait_45_60\n",
    "\n",
    "# ----------------------------\n",
    "# Replications + 95% CI\n",
    "# ----------------------------\n",
    "def ci_mean_95(samples):\n",
    "    \"\"\"Return (mean, lo, hi) using normal approx: mean ± 1.96 * s / sqrt(n).\"\"\"\n",
    "    n = len(samples)\n",
    "    m = mean(samples) if n else float('nan')\n",
    "    if n <= 1:\n",
    "        return (m, m, m)\n",
    "    s2 = sum((x - m) ** 2 for x in samples) / (n - 1)\n",
    "    s = s2 ** 0.5\n",
    "    half = 1.96 * s / (n ** 0.5)\n",
    "    return (m, m - half, m + half)\n",
    "\n",
    "def run(days: int = 100, seed: Optional[int] = 123):\n",
    "    if seed is not None:\n",
    "        random.seed(seed)\n",
    "\n",
    "    a_vals = []  # number in system at 120\n",
    "    b_vals = []  # avg wait [105,120)\n",
    "    c_vals = []  # avg wait [45,60)\n",
    "\n",
    "    for _ in range(days):\n",
    "        a, b, c = simulate_one_day(T_END)\n",
    "        a_vals.append(float(a))\n",
    "        if b is not None: b_vals.append(b)\n",
    "        if c is not None: c_vals.append(c)\n",
    "\n",
    "    a_mean, a_lo, a_hi = ci_mean_95(a_vals)\n",
    "    if b_vals:\n",
    "        b_mean, b_lo, b_hi = ci_mean_95(b_vals)\n",
    "    else:\n",
    "        b_mean = b_lo = b_hi = float('nan')\n",
    "    if c_vals:\n",
    "        c_mean, c_lo, c_hi = ci_mean_95(c_vals)\n",
    "    else:\n",
    "        c_mean = c_lo = c_hi = float('nan')\n",
    "\n",
    "    results = {\n",
    "        \"days\": days,\n",
    "        \"count_days_b\": len(b_vals),\n",
    "        \"count_days_c\": len(c_vals),\n",
    "        \"metric_a_mean\": a_mean,\n",
    "        \"metric_a_CI\": (a_lo, a_hi),\n",
    "        \"metric_b_mean_min\": b_mean,\n",
    "        \"metric_b_CI_min\": (b_lo, b_hi),\n",
    "        \"metric_b_mean_sec\": 60*b_mean if math.isfinite(b_mean) else float('nan'),\n",
    "        \"metric_b_CI_sec\": (60*b_lo, 60*b_hi) if math.isfinite(b_lo) and math.isfinite(b_hi) else (float('nan'), float('nan')),\n",
    "        \"metric_c_mean_min\": c_mean,\n",
    "        \"metric_c_CI_min\": (c_lo, c_hi),\n",
    "        \"metric_c_mean_sec\": 60*c_mean if math.isfinite(c_mean) else float('nan'),\n",
    "        \"metric_c_CI_sec\": (60*c_lo, 60*c_hi) if math.isfinite(c_lo) and math.isfinite(c_hi) else (float('nan'), float('nan')),\n",
    "    }\n",
    "    return results, a_vals, b_vals, c_vals\n",
    "\n",
    "# Quick sanity: expected number of arrivals in 120 minutes is Λ(120).\n",
    "EXPECTED_ARRIVALS = bigLambda(120.0)\n",
    "EXPECTED_ARRIVALS\n"
   ]
  },
  {
   "cell_type": "code",
   "execution_count": 4,
   "id": "32af7592",
   "metadata": {
    "execution": {
     "iopub.execute_input": "2025-10-16T03:09:08.331995Z",
     "iopub.status.busy": "2025-10-16T03:09:08.331800Z",
     "iopub.status.idle": "2025-10-16T03:09:08.352265Z",
     "shell.execute_reply": "2025-10-16T03:09:08.351737Z"
    }
   },
   "outputs": [
    {
     "name": "stdout",
     "output_type": "stream",
     "text": [
      "=== Simulation Results (100 days) ===\n",
      "(a) Number in system at t=120 min:\n",
      "    mean = 1.230,  95% CI = [0.914, 1.546]\n",
      "\n",
      "(b) Avg wait for arrivals in [105,120) minutes:\n",
      "    mean = 0.5823 min  (34.94 s)\n",
      "    95% CI = [0.4445, 0.7200] min  ([26.67, 43.20] s)\n",
      "    computed over 100 days with ≥1 arrival in that window.\n",
      "\n",
      "(c) Avg wait for arrivals in [45,60) minutes:\n",
      "    mean = 0.3332 min  (19.99 s)\n",
      "    95% CI = [0.2395, 0.4269] min  ([14.37, 25.61] s)\n",
      "    computed over 100 days with ≥1 arrival in that window.\n",
      "\n",
      "Sanity check: Expected arrivals in 120 min by Λ(120) = 90.0\n",
      "Λ(120) from code = 90.0 (should be 90.0)\n"
     ]
    }
   ],
   "source": [
    "\n",
    "# ---- Execute 100-day simulation ----\n",
    "results, a_vals, b_vals, c_vals = run(days=100, seed=123)\n",
    "\n",
    "print(\"=== Simulation Results (100 days) ===\")\n",
    "print(\"(a) Number in system at t=120 min:\")\n",
    "print(f\"    mean = {results['metric_a_mean']:.3f},  95% CI = [{results['metric_a_CI'][0]:.3f}, {results['metric_a_CI'][1]:.3f}]\")\n",
    "\n",
    "print(\"\\n(b) Avg wait for arrivals in [105,120) minutes:\")\n",
    "print(f\"    mean = {results['metric_b_mean_min']:.4f} min  ({results['metric_b_mean_sec']:.2f} s)\")\n",
    "print(f\"    95% CI = [{results['metric_b_CI_min'][0]:.4f}, {results['metric_b_CI_min'][1]:.4f}] min  \"\n",
    "      f\"([{results['metric_b_CI_sec'][0]:.2f}, {results['metric_b_CI_sec'][1]:.2f}] s)\")\n",
    "print(f\"    computed over {results['count_days_b']} days with ≥1 arrival in that window.\")\n",
    "\n",
    "print(\"\\n(c) Avg wait for arrivals in [45,60) minutes:\")\n",
    "print(f\"    mean = {results['metric_c_mean_min']:.4f} min  ({results['metric_c_mean_sec']:.2f} s)\")\n",
    "print(f\"    95% CI = [{results['metric_c_CI_min'][0]:.4f}, {results['metric_c_CI_min'][1]:.4f}] min  \"\n",
    "      f\"([{results['metric_c_CI_sec'][0]:.2f}, {results['metric_c_CI_sec'][1]:.2f}] s)\")\n",
    "print(f\"    computed over {results['count_days_c']} days with ≥1 arrival in that window.\")\n",
    "\n",
    "print(\"\\nSanity check: Expected arrivals in 120 min by Λ(120) = 90.0\")\n",
    "print(f\"Λ(120) from code = {EXPECTED_ARRIVALS:.1f} (should be 90.0)\")\n"
   ]
  }
 ],
 "metadata": {
  "kernelspec": {
   "display_name": "Python 3",
   "language": "python",
   "name": "python3"
  },
  "language_info": {
   "codemirror_mode": {
    "name": "ipython",
    "version": 3
   },
   "file_extension": ".py",
   "mimetype": "text/x-python",
   "name": "python",
   "nbconvert_exporter": "python",
   "pygments_lexer": "ipython3",
   "version": "3.13.7"
  }
 },
 "nbformat": 4,
 "nbformat_minor": 5
}
