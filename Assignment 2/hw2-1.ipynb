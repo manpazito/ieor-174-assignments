{
 "cells": [
  {
   "cell_type": "markdown",
   "id": "be83034b",
   "metadata": {},
   "source": [
    "## Problem 1:\n",
    "[Link to LLM Conversation](...)\n",
    "\n",
    "**Setting.** Suppose that you run a food truck on each Wednesday between 11AM and 1PM. There is no customer waiting when the food truck opens at 11AM. Customers arrive at the food truck according to a Poisson process with rate λ persons per minute. There is a single line of queue with a first-come-first-serve rule. Customers that have arrived before 1PM will eventually get served. In other words, customers are not able to join the queue if they arrive later than 1PM. The food truck resumes its operation until all customers who have arrived before 1PM get served. You are the owner of the food truck and there is only one server (yourself). The service time for each customer is independent and identically distributed with some distribution $F$ . The service time includes the time on taking orders and food preparation. The distribution F has a mean of $1/μ$ and the probability distribution is to be specified. Suppose λ = 2. Simulate 100 independent days (Wednesdays) for each of the following parts."
   ]
  },
  {
   "cell_type": "markdown",
   "id": "5703c87b",
   "metadata": {},
   "source": [
    "**To do.** Simulate $n = 100$ independent days of operation from 11AM and 1PM and generate the sequence of customer waiting times. For this task, the service time distribution $F$ is given by an exponential distribution with expectation as 35 seconds. Recall that the condition $λ = 2$ persons per minute in the problem statement implies that the exponentially distributed inter-arrival times of customers have expectation also as 30 seconds"
   ]
  },
  {
   "cell_type": "code",
   "execution_count": null,
   "id": "9907a620",
   "metadata": {},
   "outputs": [],
   "source": [
    "### From Assignment 1, Problem 3 ###\n",
    "def generate_arrivals(rate, t0, t1, rng):\n",
    "    arrivals = []\n",
    "    t = t0\n",
    "    while True:\n",
    "        t += rng.exponential(1 / rate)\n",
    "        if t > t1:\n",
    "            break\n",
    "        arrivals.append(t)\n",
    "    return np.array(arrivals)\n",
    "import numpy as np\n",
    "\n",
    "lamb = 2            # rate\n",
    "total_days = 100    # of Wednesdays\n",
    "t_open = 0          # 11:00 AM\n",
    "t_close = 120       # 1:00 PM\n",
    "\n",
    "rng = np.random.default_rng(174)"
   ]
  },
  {
   "cell_type": "markdown",
   "id": "265ca046",
   "metadata": {},
   "source": [
    "a.) Suppose that you are interested in knowing that on a typical Wednesday, what is the expectation of the averaged waiting time for customers who arrive at the food truck between 11:15 AM to 11:30 AM. Compute an estimate of this quantity using simulation."
   ]
  },
  {
   "cell_type": "code",
   "execution_count": null,
   "id": "780ec99f",
   "metadata": {},
   "outputs": [],
   "source": [
    "..."
   ]
  },
  {
   "cell_type": "markdown",
   "id": "b60a1d7b",
   "metadata": {},
   "source": [
    "b.) Suppose that you are interested in knowing that on a typical Wednesday, what is the expectation of the averaged waiting time for customers who arrive at the food truck between 12:45 PM to 1:00 PM. Compute an estimate of this quantity using simulation."
   ]
  },
  {
   "cell_type": "code",
   "execution_count": null,
   "id": "edc28597",
   "metadata": {},
   "outputs": [],
   "source": [
    "..."
   ]
  },
  {
   "cell_type": "markdown",
   "id": "3daa90a0",
   "metadata": {},
   "source": [
    "c.) Compare the two quantities you computed in the previous two questions. Describe intuition that you may get from this comparison."
   ]
  },
  {
   "cell_type": "code",
   "execution_count": null,
   "id": "f29412eb",
   "metadata": {},
   "outputs": [],
   "source": [
    "..."
   ]
  },
  {
   "cell_type": "markdown",
   "id": "c5f5f08b",
   "metadata": {},
   "source": [
    "d.) Compute the percentage of customers who arrive at the food truck between 11:15 AM to 11:30 AM and wait for more than 3 minutes. Compute the percentage of customers who arrive at the food truck between 12:45 PM to 1:00 PM and wait for more than 3 minutes."
   ]
  },
  {
   "cell_type": "code",
   "execution_count": null,
   "id": "10427e77",
   "metadata": {},
   "outputs": [],
   "source": [
    "..."
   ]
  },
  {
   "cell_type": "markdown",
   "id": "96830af3",
   "metadata": {},
   "source": [
    "e.) Suppose that the customers will immediately abandon the system and leave for other dining options, conditional on that they see more than 5 people in the system (including the one being served). Now, what is the percentage of customers who abandon the system (=food truck) upon arrival between 12:45 PM and 1:00 PM? What is the expectation of the averaged waiting time for customers who arrive at the food truck between 12:45 PM to 1:00 PM and did not abandon the system?"
   ]
  },
  {
   "cell_type": "code",
   "execution_count": null,
   "id": "8bd1b0c2",
   "metadata": {},
   "outputs": [],
   "source": [
    "..."
   ]
  },
  {
   "cell_type": "markdown",
   "id": "5f8c1922",
   "metadata": {},
   "source": [
    "f.) Re-do the previous five parts with F being an exponential distribution with expectation as 30 seconds and everything else equal."
   ]
  },
  {
   "cell_type": "code",
   "execution_count": null,
   "id": "73fe3af4",
   "metadata": {},
   "outputs": [],
   "source": [
    "..."
   ]
  }
 ],
 "metadata": {
  "kernelspec": {
   "display_name": "Python 3",
   "language": "python",
   "name": "python3"
  },
  "language_info": {
   "name": "python",
   "version": "3.12.4"
  }
 },
 "nbformat": 4,
 "nbformat_minor": 5
}
