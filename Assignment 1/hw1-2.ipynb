{
 "cells": [
  {
   "cell_type": "markdown",
   "id": "93b676dd",
   "metadata": {},
   "source": [
    "# Problem 2: Battery Packaging Simulation"
   ]
  },
  {
   "cell_type": "markdown",
   "id": "d05b894a-fc59-46ed-bd7f-376020120f12",
   "metadata": {},
   "source": [
    "### Skeleton / Notes\n",
    "\n",
    "- setup:\n",
    "  - 100 batteries per box\n",
    "  - each battery ~ N(1, 0.05^2)\n",
    "  - so total weight ~ Normal(mean=100, std=0.5)\n",
    "  - choose N trials for Monte Carlo (like 200000)\n",
    "\n",
    "- Monte Carlo:\n",
    "  1. simulate N samples (N×100 normals)\n",
    "  2. (a) prob(total > 101) = count/N\n",
    "  3. (b) fee = max(X-100,0); conditional expectation = mean of fee when X>100\n",
    "\n",
    "- Analytical:\n",
    "  - use pdf/cdf for standard normal\n",
    "  - (a) prob = 1 - Phi((101-100)/0.5)\n",
    "  - (c) E[(X-100)+] = σφ(z) + (μ-100)(1-Φ(z))\n",
    "  - (b) conditional = that / P(X>100)\n",
    "\n",
    "- Finally: print MC vs analytic results This concludes the human portion/student skeleton. The following conversation with a language model (https://chatgpt.com/share/68d786aa-5a00-8009-a273-58771d66aad6) was used to generate the body of the code."
   ]
  },
  {
   "cell_type": "code",
   "execution_count": 2,
   "id": "4e944fac-351a-4658-be99-c395332da963",
   "metadata": {},
   "outputs": [
    {
     "name": "stdout",
     "output_type": "stream",
     "text": [
      "Monte Carlo (N = 200,000 trials)\n",
      "(a) P(X > 101) ≈ 0.022915\n",
      "(b) E[X - 100 | X > 100] ≈ $0.397774\n",
      "\n",
      "Analytic\n",
      "(a) P(X > 101) = 0.022750\n",
      "(b) E[X - 100 | X > 100] = $0.398942\n",
      "(c) E[(X - 100)+] = $0.199471\n",
      "\n",
      "Sanity check: MC E[(X-100)+] ≈ $0.198947\n"
     ]
    }
   ],
   "source": [
    "import numpy as np\n",
    "from math import erf, sqrt, exp, pi\n",
    "\n",
    "# --- setup ---\n",
    "np.random.seed(42)                # reproducibility\n",
    "n_per_box = 100\n",
    "mu_each = 1.0\n",
    "sd_each = 0.05\n",
    "\n",
    "mu_total = n_per_box * mu_each\n",
    "sd_total = np.sqrt(n_per_box) * sd_each   # = 0.5\n",
    "\n",
    "N = 200_000  # number of Monte Carlo trials; bump this if you want tighter MC error\n",
    "\n",
    "# --- helpers for standard normal ---\n",
    "def phi(z):\n",
    "    # standard normal pdf\n",
    "    return (1.0 / sqrt(2*pi)) * exp(-0.5 * z*z)\n",
    "\n",
    "def Phi(z):\n",
    "    # standard normal cdf\n",
    "    return 0.5 * (1.0 + erf(z / sqrt(2.0)))\n",
    "\n",
    "# --- Monte Carlo simulation ---\n",
    "# simulate N boxes: draw N x 100 normals with mean=1, sd=0.05 and sum to get totals\n",
    "samples = np.random.normal(loc=mu_each, scale=sd_each, size=(N, n_per_box)).sum(axis=1)\n",
    "\n",
    "# (a) estimate P(total > 101)\n",
    "p_mc_gt_101 = np.mean(samples > 101.0)\n",
    "\n",
    "# (b) conditional expectation of extra fee given X>100, where fee = max(X-100, 0)\n",
    "fees = np.clip(samples - 100.0, 0.0, None)\n",
    "mask_gt_100 = samples > 100.0\n",
    "cond_fee_mc = fees[mask_gt_100].mean()\n",
    "\n",
    "# --- Analytical values ---\n",
    "# (a) analytic P(X>101)\n",
    "z_101 = (101.0 - mu_total) / sd_total\n",
    "p_analytic_gt_101 = 1.0 - Phi(z_101)\n",
    "\n",
    "# (c) analytic E[(X-100)+] using the known formula\n",
    "# For X ~ N(mu, sigma^2), k=100:\n",
    "# E[(X-k)+] = sigma * phi((k - mu)/sigma) + (mu - k) * (1 - Phi((k - mu)/sigma))\n",
    "k = 100.0\n",
    "z_k = (k - mu_total) / sd_total\n",
    "expected_positive_part = sd_total * phi(z_k) + (mu_total - k) * (1.0 - Phi(z_k))\n",
    "\n",
    "# (b) analytic conditional expectation E[X-100 | X>100]\n",
    "p_gt_100 = 1.0 - Phi(z_k)\n",
    "cond_fee_analytic = expected_positive_part / p_gt_100\n",
    "\n",
    "# --- print results side by side ---\n",
    "print(\"Monte Carlo (N = {:,} trials)\".format(N))\n",
    "print(f\"(a) P(X > 101) ≈ {p_mc_gt_101:.6f}\")\n",
    "print(f\"(b) E[X - 100 | X > 100] ≈ ${cond_fee_mc:.6f}\")\n",
    "\n",
    "print(\"\\nAnalytic\")\n",
    "print(f\"(a) P(X > 101) = {p_analytic_gt_101:.6f}\")\n",
    "print(f\"(b) E[X - 100 | X > 100] = ${cond_fee_analytic:.6f}\")\n",
    "print(f\"(c) E[(X - 100)+] = ${expected_positive_part:.6f}\")\n",
    "\n",
    "# (optional) quick sanity checks:\n",
    "# - MC estimate of E[(X-100)+] should be close to analytic when N is large\n",
    "mc_pos_part = fees.mean()\n",
    "print(\"\\nSanity check: MC E[(X-100)+] ≈ ${:.6f}\".format(mc_pos_part))"
   ]
  }
 ],
 "metadata": {
  "kernelspec": {
   "display_name": "Python 3",
   "language": "python",
   "name": "python3"
  },
  "language_info": {
   "codemirror_mode": {
    "name": "ipython",
    "version": 3
   },
   "file_extension": ".py",
   "mimetype": "text/x-python",
   "name": "python",
   "nbconvert_exporter": "python",
   "pygments_lexer": "ipython3",
   "version": "3.13.7"
  }
 },
 "nbformat": 4,
 "nbformat_minor": 5
}
