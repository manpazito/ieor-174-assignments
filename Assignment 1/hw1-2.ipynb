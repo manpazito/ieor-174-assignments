{
 "cells": [
  {
   "cell_type": "markdown",
   "id": "93b676dd",
   "metadata": {},
   "source": [
    "# Problem 2: Battery Packaging Simulation"
   ]
  },
  {
   "cell_type": "markdown",
   "id": "2694ecd1",
   "metadata": {},
   "source": []
  }
 ],
 "metadata": {
  "language_info": {
   "name": "python"
  }
 },
 "nbformat": 4,
 "nbformat_minor": 5
}

import numpy as np
from math import erf, sqrt, exp, pi

# setup
# number of batteries per box = 100
# each battery ~ N(1, 0.05^2)
# so total weight ~ Normal with mean = 100, std = sqrt(100)*0.05 = 0.5
# pick number of trials for Monte Carlo, like N = 200000

# Monte Carlo part
# 1. simulate N samples:
#    generate N x 100 normals with mean=1, sd=0.05
#    sum along axis=1 to get total weight of each box
# 2. (a) probability total weight > 101
#    just count how many > 101 and divide by N
# 3. (b) conditional expectation of extra fee
#    fee = max(X - 100, 0)
#    take mean of fee values but only over samples with X > 100

# Analytical part
# need pdf and cdf for standard normal
# (a) analytic prob = 1 - Phi((101-100)/0.5)
# (c) formula for E[(X-100)+] = sigma*phi(z) + (mu-100)*(1 - Phi(z))
# where z = (100-mu)/sigma
# (b) then conditional = that expectation divided by P(X>100)

# print out MC results and analytic results side by side
