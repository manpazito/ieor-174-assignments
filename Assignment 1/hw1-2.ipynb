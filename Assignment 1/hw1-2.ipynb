{
 "cells": [
  {
   "cell_type": "markdown",
   "id": "93b676dd",
   "metadata": {},
   "source": [
    "# Problem 2: Battery Packaging Simulation"
   ]
  },
  {
   "cell_type": "markdown",
   "id": "2694ecd1",
   "metadata": {},
   "source": [
    "### Skeleton / Notes\n",
    "\n",
    "- setup:\n",
    "  - 100 batteries per box\n",
    "  - each battery ~ N(1, 0.05^2)\n",
    "  - so total weight ~ Normal(mean=100, std=0.5)\n",
    "  - choose N trials for Monte Carlo (like 200000)\n",
    "\n",
    "- Monte Carlo:\n",
    "  1. simulate N samples (N×100 normals)\n",
    "  2. (a) prob(total > 101) = count/N\n",
    "  3. (b) fee = max(X-100,0); conditional expectation = mean of fee when X>100\n",
    "\n",
    "- Analytical:\n",
    "  - use pdf/cdf for standard normal\n",
    "  - (a) prob = 1 - Phi((101-100)/0.5)\n",
    "  - (c) E[(X-100)+] = σφ(z) + (μ-100)(1-Φ(z))\n",
    "  - (b) conditional = that / P(X>100)\n",
    "\n",
    "- Finally: print MC vs analytic results"
   ]
  }
 ],
 "metadata": {
  "language_info": {
   "name": "python"
  }
 },
 "nbformat": 4,
 "nbformat_minor": 5
}
