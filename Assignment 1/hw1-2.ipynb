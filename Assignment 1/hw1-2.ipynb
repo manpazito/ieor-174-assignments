{
 "cells": [
  {
   "cell_type": "markdown",
   "id": "93b676dd",
   "metadata": {},
   "source": [
    "# Problem 2: Battery Packaging Simulation"
   ]
  },
  {
   "cell_type": "markdown",
   "id": "2694ecd1",
   "metadata": {},
   "source": []
  }
 ],
 "metadata": {
  "language_info": {
   "name": "python"
  }
 },
 "nbformat": 4,
 "nbformat_minor": 5
}
