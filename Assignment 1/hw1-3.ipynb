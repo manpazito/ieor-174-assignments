{
 "cells": [
  {
   "cell_type": "markdown",
   "id": "adde0c4a",
   "metadata": {},
   "source": [
    "# Problem 3: Food Truck Simulation"
   ]
  },
  {
   "cell_type": "code",
   "execution_count": 1,
   "id": "1f359cb1",
   "metadata": {},
   "outputs": [],
   "source": [
    "import numpy as np\n",
    "import matplotlib.pyplot as plt"
   ]
  },
  {
   "cell_type": "code",
   "execution_count": 2,
   "id": "d1b16c22",
   "metadata": {},
   "outputs": [],
   "source": [
    "def time_elapsed(start_time, end_time):\n",
    "    def time_to_sec(time):\n",
    "        hour, minute = time.split(\":\")\n",
    "        minute, PM = minute.split(\" \")\n",
    "        minute, hour = int(minute), int(hour)\n",
    "        if hour > 12 and (not(hour == 12 and minute == 0)):\n",
    "            hour += 12\n",
    "        return hour * 60 + minute\n",
    "    return time_to_sec(end_time) - time_to_sec(start_time)\n",
    "\n",
    "def generate_arrivals(rate, time_elapsed):\n",
    "    arrival_time = []\n",
    "    arrival_diff = []\n",
    "    while (len(arrival_diff)==0 or (arrival_time[-1] < time_elapsed)):\n",
    "        next_arrival = np.random.poisson(rate)\n",
    "        arrival_time.append(sum(arrival_time) + next_arrival)\n",
    "        arrival_diff.append(next_arrival)\n",
    "    return arrival_time, arrival_diff"
   ]
  },
  {
   "cell_type": "markdown",
   "id": "5ae9d4e8",
   "metadata": {},
   "source": [
    "a.) Denote $E_i$ as the number of customers that arrive at the food truck between 11:55 AM and 12:05 PM on the $i$-th day. Do the following:\n",
    "\n",
    "> i.) Compute $\\frac{1}{100} \\sum_{i=1}^{100} E_i$ and compute the sample variance for $\\mathbb{E}_i$'s."
   ]
  },
  {
   "cell_type": "code",
   "execution_count": 3,
   "id": "11508057",
   "metadata": {},
   "outputs": [
    {
     "name": "stdout",
     "output_type": "stream",
     "text": [
      "Sample Mean of E_i: 3.83\n",
      "Sample Variance of E_i: 0.5611\n"
     ]
    }
   ],
   "source": [
    "arrivals_count = []\n",
    "arrivals_over = []\n",
    "total_time = time_elapsed(\"11:55 AM\", \"12:05 PM\")\n",
    "\n",
    "for _ in range(100):\n",
    "    arrival_times, arrival_diffs = generate_arrivals(rate=2, time_elapsed=total_time)\n",
    "    arrivals_count.append(len(arrival_times))\n",
    "    arrivals_over.append(sum([arrival > 1 for arrival in arrival_diffs]))\n",
    "# 1/100 * sum of E_i is simply the mean\n",
    "arrival_mean = np.mean(arrivals_count) \n",
    "\n",
    "# Variance is standard deviation squared\n",
    "arrival_var = np.std(arrivals_count) ** 2\n",
    "\n",
    "print(f\"Sample Mean of E_i: {arrival_mean}\\nSample Variance of E_i: {round(arrival_var, 4)}\")"
   ]
  },
  {
   "cell_type": "markdown",
   "id": "e48da7fd",
   "metadata": {},
   "source": [
    "> ii.) Histogram"
   ]
  },
  {
   "cell_type": "code",
   "execution_count": 4,
   "id": "cf94e263",
   "metadata": {},
   "outputs": [
    {
     "data": {
      "image/png": "[encoded data removed]",
      "text/plain": [
       "<Figure size 640x480 with 1 Axes>"
      ]
     },
     "metadata": {},
     "output_type": "display_data"
    }
   ],
   "source": [
    "bin_range = np.arange(min(arrivals_count), max(arrivals_count) + 2) - 0.5\n",
    "\n",
    "plt.figure()\n",
    "plt.title(\"Arrival Counts over 100 Days\")\n",
    "plt.hist(arrivals_count, bins=bin_range, align=\"mid\", edgecolor = \"black\")\n",
    "plt.xlabel(\"Count of Arrivals\")\n",
    "plt.ylabel(\"Frequency\")\n",
    "plt.show()"
   ]
  },
  {
   "cell_type": "markdown",
   "id": "ab4b2705",
   "metadata": {},
   "source": [
    "> iii.) Inter-arrival times over 100 days, proportion > 1 minute, & comparison to $e^{-2}$"
   ]
  },
  {
   "cell_type": "markdown",
   "id": "0901cc2e",
   "metadata": {},
   "source": [
    "Proportion Longer than 1 minute"
   ]
  },
  {
   "cell_type": "code",
   "execution_count": 5,
   "id": "af1293ae",
   "metadata": {},
   "outputs": [
    {
     "name": "stdout",
     "output_type": "stream",
     "text": [
      "0.5979 of all inter-arrival times were over a minute.\n"
     ]
    }
   ],
   "source": [
    "prop_over_1_min = sum(arrivals_over) / sum(arrivals_count) \n",
    "print(f\"{prop_over_1_min:.4f} of all inter-arrival times were over a minute.\")"
   ]
  },
  {
   "cell_type": "markdown",
   "id": "83138132",
   "metadata": {},
   "source": [
    "$X_{k, i}$ = Arrival of customer $k$ on day $i$ ~ $\\text{Poisson}(\\lambda = 2)$\n",
    "\n",
    "$$\n",
    "\\begin{align*}\n",
    "P(X_{k, i} > 1) &= 1 - P(X_{k, i} \\leq 1)=1 - (P(X_{k, i} = 0) + P(X_{k, i} = 1))\n",
    "\\\\\n",
    "&= 1 - (\\frac{2^{(0)} e^{-2}}{(0)!} + \\frac{2^{(1)} e^{-2}}{(1)!}) = 1 - 3e^{-2}\n",
    "\\\\ &\\approx 0.594\n",
    "\\end{align*}\n",
    "$$\n",
    "\n",
    "Based on CLT, we should see some convergence towards this number, which we see our sample proportion of 0.5979 being sort of close to 0.594, with the relationship of the proportion inter-arrival times longer than a minute in comparison to $e^{-2}$ being $1 - 3e^{-2}$."
   ]
  }
 ],
 "metadata": {
  "kernelspec": {
   "display_name": "base",
   "language": "python",
   "name": "python3"
  },
  "language_info": {
   "codemirror_mode": {
    "name": "ipython",
    "version": 3
   },
   "file_extension": ".py",
   "mimetype": "text/x-python",
   "name": "python",
   "nbconvert_exporter": "python",
   "pygments_lexer": "ipython3",
   "version": "3.12.3"
  }
 },
 "nbformat": 4,
 "nbformat_minor": 5
}
