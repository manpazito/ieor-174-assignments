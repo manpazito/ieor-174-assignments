{
 "cells": [
  {
   "cell_type": "markdown",
   "id": "adde0c4a",
   "metadata": {},
   "source": [
    "# Problem 3: Food Truck Simulation"
   ]
  },
  {
   "cell_type": "markdown",
   "id": "53f60a92",
   "metadata": {},
   "source": []
  }
 ],
 "metadata": {
  "language_info": {
   "name": "python"
  }
 },
 "nbformat": 4,
 "nbformat_minor": 5
}
