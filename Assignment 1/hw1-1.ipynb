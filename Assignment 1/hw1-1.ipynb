{
 "cells": [
  {
   "cell_type": "markdown",
   "id": "77d336aa",
   "metadata": {},
   "source": [
    "# Problem 1: Deck of Cards Simulation"
   ]
  },
  {
   "cell_type": "code",
   "execution_count": null,
   "id": "b7a5e110",
   "metadata": {},
   "outputs": [],
   "source": [
    "class Deck:\n",
    "    def __init__(self):\n",
    "        return\n",
    "    \n",
    "    @__init__\n",
    "    def generate_deck(n=1):"
   ]
  },
  {
   "cell_type": "markdown",
   "id": "c241676b",
   "metadata": {},
   "source": []
  }
 ],
 "metadata": {
  "kernelspec": {
   "display_name": "base",
   "language": "python",
   "name": "python3"
  },
  "language_info": {
   "name": "python",
   "version": "3.12.3"
  }
 },
 "nbformat": 4,
 "nbformat_minor": 5
}
